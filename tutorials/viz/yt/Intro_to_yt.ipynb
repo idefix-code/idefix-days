{
 "cells": [
  {
   "attachments": {},
   "cell_type": "markdown",
   "id": "0",
   "metadata": {},
   "source": [
    "<img src=\"yt_logo.png\" width=120/>\n",
    "\n",
    "# An introduction to data visualization with yt\n",
    "\n",
    "[`yt`](https://yt-project.org) is a Python library that provides a generic interface for analysis and visualization of spatially-organised data, with built-in compatibility for various data formats ([Athena++, RAMSES, AREPO, to name a few](https://yt-project.org/doc/examining/index.html)).\n",
    "It supports grid-based data (regular, stretched, and various flavours of AMR), as well as particle data (point-like and SPH).\n",
    "Its key features are:\n",
    "- a code-agnostic interface (specificities of data formats are rarely relevant)\n",
    "- dimensionally meaningful analysis\n",
    "- lazy data loading (only load in memory what's actually needed, when it's needed)\n",
    "- parallel capacity (with `mpi4py`)\n",
    "\n",
    "\n",
    "In this tutorial, we'll demonstrate how to load data, and produce simple visulations with yt in a couple lines of Python, and show how to go beyond the defaults.\n",
    "We will cover the following basic functionalities.\n",
    "- `yt.load`\n",
    "- `yt.SlicePlot`\n",
    "- `yt.ProjectionPlot`\n",
    "- `yt.Dataset.add_field`\n",
    "\n",
    "Then, we will see how to enable compatibility with Idefix (and Pluto !) data files using the [`yt_idefix`](https://github.com/neutrinoceros/yt_idefix) extension.\n",
    "\n",
    "\n",
    "For completeness, `yt` supports many operations that will not be covered here, like\n",
    "- plotting multiple fields with a single `SlicePlot` object\n",
    "- data reduction to 1D-profile\n",
    "- \"phase plots\"\n",
    "- volume rendering\n",
    "- off-axis slices and projections\n",
    "- region selection\n",
    "- exporting reduced datasets to `HDF5`\n",
    "\n",
    "*note* that many of these features may have only partial support for non-cartesian geometries.\n",
    "\n",
    "## Resources\n",
    "Explore [the documentation](https://yt-project.org/doc/) and [the cookbook](https://yt-project.org/doc/cookbook/index.html) for much more.\n",
    "\n",
    "- [Homepage](https://yt-project.org/)\n",
    "- [yt users mailing list](https://mail.python.org/archives/list/yt-users@python.org/)\n",
    "- [yt Slack Space](https://yt-project.org/slack.html)\n",
    "- [The `yt_idefix` extension](https://pypi.org/project/yt-idefix/)\n",
    "- [... and its bug tracker](https://github.com/neutrinoceros/yt_idefix/issues)\n",
    "- [unyt, a Python library that provides *numpy arrays with units*](https://unyt.readthedocs.io)\n",
    "- [yt's bug tracker](https://github.com/yt-project/yt/issues)\n"
   ]
  },
  {
   "attachments": {},
   "cell_type": "markdown",
   "id": "1",
   "metadata": {},
   "source": [
    "## 1 - 2D viz with yt\n",
    "\n",
    "The workflow we'll use here is follows 3 steps\n",
    "- load our dataset\n",
    "- create a plot (slice or projection)\n",
    "- customize and augment the result (yt *plot annotations*)\n",
    "\n",
    "We'll use a sample dataset provided by `yt` using the `yt.load_sample` function."
   ]
  },
  {
   "cell_type": "code",
   "execution_count": null,
   "id": "2",
   "metadata": {},
   "outputs": [],
   "source": [
    "import yt"
   ]
  },
  {
   "cell_type": "code",
   "execution_count": null,
   "id": "3",
   "metadata": {},
   "outputs": [],
   "source": [
    "ds = yt.load_sample(\"IsolatedGalaxy\")"
   ]
  },
  {
   "cell_type": "code",
   "execution_count": null,
   "id": "4",
   "metadata": {},
   "outputs": [],
   "source": [
    "# plot a slice of the gas density\n",
    "yt.SlicePlot(ds, \"z\", \"density\")"
   ]
  },
  {
   "cell_type": "code",
   "execution_count": null,
   "id": "5",
   "metadata": {},
   "outputs": [],
   "source": [
    "# plot the *column* density\n",
    "yt.ProjectionPlot(ds, \"z\", \"density\")"
   ]
  },
  {
   "attachments": {},
   "cell_type": "markdown",
   "id": "6",
   "metadata": {},
   "source": [
    "Notice that coordinates and density have units, and that a `yt.ProjectionPlot` effectively\n",
    "shows a *column* density (or *surface* density), as a sum along the `\"z\"` direction.\n",
    "Now let's demonstrate how we can customize the plot. We'll use a `SlicePlot`."
   ]
  },
  {
   "cell_type": "code",
   "execution_count": null,
   "id": "7",
   "metadata": {},
   "outputs": [],
   "source": [
    "p = yt.SlicePlot(ds, \"z\", \"density\")\n",
    "p"
   ]
  },
  {
   "cell_type": "code",
   "execution_count": null,
   "id": "8",
   "metadata": {},
   "outputs": [],
   "source": [
    "# let's zoom in\n",
    "p.zoom(30)"
   ]
  },
  {
   "cell_type": "code",
   "execution_count": null,
   "id": "9",
   "metadata": {},
   "outputs": [],
   "source": [
    "# add a timestamp\n",
    "p.annotate_timestamp(draw_inset_box=True)"
   ]
  },
  {
   "cell_type": "code",
   "execution_count": null,
   "id": "10",
   "metadata": {},
   "outputs": [],
   "source": [
    "# add stream lines for the velocity field\n",
    "p.annotate_streamlines(\"velocity_x\", \"velocity_y\", color=\"white\")"
   ]
  },
  {
   "cell_type": "code",
   "execution_count": null,
   "id": "11",
   "metadata": {},
   "outputs": [],
   "source": [
    "# change the orientation\n",
    "p.swap_axes()"
   ]
  },
  {
   "cell_type": "code",
   "execution_count": null,
   "id": "12",
   "metadata": {},
   "outputs": [],
   "source": [
    "# again\n",
    "p.flip_horizontal()"
   ]
  },
  {
   "attachments": {},
   "cell_type": "markdown",
   "id": "13",
   "metadata": {},
   "source": [
    "## 2 - Inspecting and defining data fields\n",
    "\n",
    "`yt` has a notion of 'native' VS 'derived' data fields. The former are directly read from disk, while the latter are computed on the fly.\n",
    "Many fields are often available out-of-the-box ...\n",
    "\n"
   ]
  },
  {
   "cell_type": "code",
   "execution_count": null,
   "id": "14",
   "metadata": {},
   "outputs": [],
   "source": [
    "import yt\n",
    "\n",
    "ds = yt.load(\"IsolatedGalaxy/galaxy0030/galaxy0030.hierarchy\")\n",
    "ds.field_list"
   ]
  },
  {
   "attachments": {},
   "cell_type": "markdown",
   "id": "15",
   "metadata": {},
   "source": [
    "But it's always possible to define more fields at runtime !\n",
    "Let's see how we would define a simple field representing the gravitational pull of central potential created by $10^6$ solar masses on an Earth-mass test particle as a function of position.\n",
    "\n",
    "In `yt`, data fields are essentially [*numpy arrays with units*](https://unyt.readthedocs.io/en/stable/). Working with physically meaningful quantities allows `yt` to verify dimensional consistency at runtime. This crucial feature is powered by the `unyt` library. Let's use it here to define the $GM$ constant."
   ]
  },
  {
   "cell_type": "code",
   "execution_count": null,
   "id": "16",
   "metadata": {},
   "outputs": [],
   "source": [
    "import unyt as un\n",
    "import unyt.physical_constants as cst\n",
    "\n",
    "GM = cst.G * (10**6 * cst.Msun)\n",
    "\n",
    "# visual dimension analysis\n",
    "(GM * cst.Mearth / un.AU**2).units.dimensions"
   ]
  },
  {
   "cell_type": "code",
   "execution_count": null,
   "id": "17",
   "metadata": {},
   "outputs": [],
   "source": [
    "# this cell has a bug, can you spot it ?\n",
    "\n",
    "\n",
    "def gravitational_pull(field, data):\n",
    "    # the pull exerted by a central mass of 10**6 Msun on a test mass (Mearth)\n",
    "    # as a function of the position\n",
    "    xc, yc, zc = data.ds.domain_center\n",
    "    length_unit = data[\"index\", \"x\"].units\n",
    "    d2 = (\n",
    "        (data[\"x\"] - xc) ** 2\n",
    "        + (data[\"y\"] - yc) ** 2\n",
    "        + (data[\"z\"] - zc) ** 2\n",
    "        + 1e-16 * length_unit**2  # smoothing around origin\n",
    "    )\n",
    "    return GM * un.Mearth / d2**2\n",
    "\n",
    "\n",
    "ds.add_field(\n",
    "    (\"gas\", \"gravitational_pull\"),\n",
    "    function=gravitational_pull,\n",
    "    sampling_type=\"cell\",\n",
    "    units=\"N\",  # enable dimensional analysis check at definition time\n",
    "    force_override=True,  # make this cell re-runable\n",
    ")\n",
    "\n",
    "yt.SlicePlot(ds, \"x\", \"gravitational_pull\")"
   ]
  },
  {
   "attachments": {},
   "cell_type": "markdown",
   "id": "18",
   "metadata": {},
   "source": [
    "## 3 - Working with idefix data\n",
    "\n",
    "We'll need to install the [`yt_idefix` extension](https://pypi.org/project/yt_idefix/) to get compatibility with idefix (and Pluto) data. We'll also download a small idefix dataset.\n",
    "\n",
    "Note that, as of version `2.2.0`, this extension supports reading data from multiple output formats:\n",
    "- Idefix and Pluto vtk files\n",
    "- Idefix dump files\n",
    "- Pluto XDMF files (requires `h5py`)"
   ]
  },
  {
   "cell_type": "code",
   "execution_count": null,
   "id": "19",
   "metadata": {},
   "outputs": [],
   "source": [
    "%pip install yt_idefix"
   ]
  },
  {
   "cell_type": "code",
   "execution_count": null,
   "id": "20",
   "metadata": {},
   "outputs": [],
   "source": [
    "%%sh\n",
    "if [ ! -d \"yt_data\" ]\n",
    "then\n",
    "    mkdir yt_data\n",
    "fi\n",
    "\n",
    "if [ ! -e \"yt_data/ThreeLittlePlanets\" ]\n",
    "then\n",
    "    wget http://use.yt/upload/459d3ef2 -O ThreeLittlePlanets.tar.gz\n",
    "    tar -xvzf ThreeLittlePlanets.tar.gz\n",
    "    mv ThreeLittlePlanets yt_data/ThreeLittlePlanets\n",
    "    rm ThreeLittlePlanets.tar.gz\n",
    "    cd ..\n",
    "fi"
   ]
  },
  {
   "cell_type": "code",
   "execution_count": null,
   "id": "21",
   "metadata": {},
   "outputs": [],
   "source": [
    "import yt\n",
    "\n",
    "file = \"ThreeLittlePlanets/data.0002.vtk\"\n",
    "\n",
    "ds = yt.load(file)\n",
    "p = yt.SlicePlot(ds, \"z\", \"density\")\n",
    "p.annotate_title(\"Default behaviour\")"
   ]
  },
  {
   "attachments": {},
   "cell_type": "markdown",
   "id": "22",
   "metadata": {},
   "source": [
    "A couple notes:\n",
    "- Most fields are automatically recognized by `yt/yt_idefix`, and translated to a code-agnostic convention (`\"RHO\"` becomes `\"density\"`, `\"VX2\"` becomes `\"velocity_y\"`, `\"velocity_phi\"`, `\"velocity_theta\"` depending on the geometry !). All fields remain accessible under their native names too.\n",
    "- Default units are shady ! this is because Idefix doesn't have runtime units, so `yt` assumes simple `cgs` everywhere. We can provide actual at post-processing time as"
   ]
  },
  {
   "cell_type": "code",
   "execution_count": null,
   "id": "23",
   "metadata": {},
   "outputs": [],
   "source": [
    "ds = yt.load(\n",
    "    file,\n",
    "    units_override={\n",
    "        \"length_unit\": (5.2, \"AU\"),\n",
    "        \"mass_unit\": (1, \"Msun\"),\n",
    "    },\n",
    ")\n",
    "p = yt.ProjectionPlot(ds, \"z\", (\"gas\", \"density\"))\n",
    "p.annotate_title(\"with units override\")"
   ]
  },
  {
   "attachments": {},
   "cell_type": "markdown",
   "id": "24",
   "metadata": {},
   "source": [
    "... or we can \"hide\" units (they are still used internally)"
   ]
  },
  {
   "cell_type": "code",
   "execution_count": null,
   "id": "25",
   "metadata": {},
   "outputs": [],
   "source": [
    "ds = yt.load(\n",
    "    file,\n",
    "    unit_system=\"code\",\n",
    ")\n",
    "p = yt.ProjectionPlot(ds, \"z\", (\"gas\", \"density\"))\n",
    "p.annotate_title(\"with 'code' unit system\")"
   ]
  },
  {
   "attachments": {},
   "cell_type": "markdown",
   "id": "26",
   "metadata": {},
   "source": [
    "## 4 - Defining new annotation methods\n",
    "\n",
    "As an example, we'll write a custom `annotate_planets` method that will add markers at planet locations."
   ]
  },
  {
   "cell_type": "code",
   "execution_count": null,
   "id": "27",
   "metadata": {},
   "outputs": [],
   "source": [
    "from pathlib import Path\n",
    "\n",
    "import numpy as np\n",
    "from yt.visualization.api import PlotCallback\n",
    "\n",
    "\n",
    "def read_planet_positions(ds):\n",
    "    data_dir = Path(ds.directory)\n",
    "    planet_log_files = sorted(data_dir.glob(\"planet*.dat\"))\n",
    "    nplanets = len(planet_log_files)\n",
    "    positions = np.empty((nplanets, 4))\n",
    "    for i, log in enumerate(planet_log_files):\n",
    "        # load x, y, z, q time columns\n",
    "        dat = np.loadtxt(log, usecols=(1, 2, 3, 7, 8))\n",
    "        index = np.argwhere(np.abs(dat[:, -1] - ds.current_time.v) < 0.1).item()\n",
    "        positions[i] = dat[index, :4].flat\n",
    "    return positions.T\n",
    "\n",
    "\n",
    "class Planets(PlotCallback):\n",
    "    _type_name = \"planets\"  # -> define a method called `annotate_planets`\n",
    "\n",
    "    def __init__(self, ds, **kwargs):\n",
    "        # the __init__ method is responsible for doing expensive tasks\n",
    "        # but it doesn't actually interact with the plot.\n",
    "        # The function signature is free.\n",
    "        self.xp, self.yp, _, qp = read_planet_positions(ds)\n",
    "\n",
    "        # purely for style, let's scale the marker size with planet mass\n",
    "        sizes = 100 * np.log10(1 + qp / min(qp))\n",
    "\n",
    "        self.kwargs = {\n",
    "            \"marker\": \"x\",\n",
    "            \"color\": \"white\",\n",
    "            \"sizes\": sizes,\n",
    "            \"linewidths\": 3,\n",
    "            **kwargs,\n",
    "        }\n",
    "\n",
    "    def __call__(self, plot) -> None:\n",
    "        # the __call__ method is responsible for calling matplotlib functions\n",
    "        # its signature should be exactly this one\n",
    "        plot._axes.scatter(self.xp, self.yp, **self.kwargs)\n",
    "\n",
    "\n",
    "p = yt.SlicePlot(ds, \"z\", \"density\")\n",
    "p.annotate_planets(ds)\n",
    "p.annotate_title(\"See my planets !\")"
   ]
  },
  {
   "cell_type": "markdown",
   "id": "28",
   "metadata": {},
   "source": [
    "## 5 Bonus: making 1D profiles\n",
    "\n",
    "How about 1D reductions ? Let's make an azimuthal average of the density in *one* line of code."
   ]
  },
  {
   "cell_type": "code",
   "execution_count": null,
   "id": "29",
   "metadata": {},
   "outputs": [],
   "source": [
    "p = yt.ProfilePlot(ds, \"r\", \"density\", x_log=False)\n",
    "p"
   ]
  },
  {
   "cell_type": "markdown",
   "id": "30",
   "metadata": {},
   "source": [
    "If we need to customize the plot, we can do whatever we want by getting back to the fundamental interface (matplotlib). For instance here we'll annotate the radial positions of our planets."
   ]
  },
  {
   "cell_type": "code",
   "execution_count": null,
   "id": "31",
   "metadata": {},
   "outputs": [],
   "source": [
    "p = yt.ProfilePlot(ds, \"r\", \"density\", x_log=False)\n",
    "\n",
    "# back to basics: do whatever we want with matplotlib\n",
    "fig = p.plots[\"density\"].figure\n",
    "ax = p.plots[\"density\"].axes\n",
    "xp, yp, _zp, _qp = read_planet_positions(p.ds)\n",
    "rp = np.sqrt(xp**2 + yp**2)\n",
    "for x in rp:\n",
    "    ax.axvline(x, ls=\"--\", color=\"black\", alpha=0.6)\n",
    "fig"
   ]
  },
  {
   "cell_type": "code",
   "execution_count": null,
   "id": "33",
   "metadata": {},
   "outputs": [],
   "source": []
  }
 ],
 "metadata": {
  "kernelspec": {
   "display_name": "Python 3 (ipykernel)",
   "language": "python",
   "name": "python3"
  },
  "language_info": {
   "codemirror_mode": {
    "name": "ipython",
    "version": 3
   },
   "file_extension": ".py",
   "mimetype": "text/x-python",
   "name": "python",
   "nbconvert_exporter": "python",
   "pygments_lexer": "ipython3",
   "version": "3.11.4"
  }
 },
 "nbformat": 4,
 "nbformat_minor": 5
}
