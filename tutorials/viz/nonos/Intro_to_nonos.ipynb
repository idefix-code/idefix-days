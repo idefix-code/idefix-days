{
 "cells": [
  {
   "attachments": {},
   "cell_type": "markdown",
   "id": "0f250cf1-d9ed-4df6-b76c-41ea621cce6b",
   "metadata": {},
   "source": [
    "## Introduction\n",
    "\n",
    "`nonos` is a 2D visualization Python library, developed initially for planet-disk numerical simulations, as well as a command line application. It works with VTK-formatted data from IDEFIX and PLUTO, and dat-formatted data from FARGO-ADSG and FARGO3D. Most of the implementation has been made for polar / spherical outputs, even though some basic operations are possible in cartesian.\n",
    "\n",
    "In this tutorial, we will learn how to: \n",
    "- load an IDEFIX dataset with `nonos.api.GasDataSet`\n",
    "- perform some operations on a field (e.g., slices, projection)\n",
    "- create a new field with `nonos.api.compute`\n",
    "- visualize the data"
   ]
  },
  {
   "attachments": {},
   "cell_type": "markdown",
   "id": "0003f624-ce7e-4e62-be22-478b705974ab",
   "metadata": {
    "tags": []
   },
   "source": [
    "## Resources\n",
    "\n",
    "See the [documentation](https://nonos.readthedocs.io/en/latest/) for an introduction of nonos."
   ]
  },
  {
   "attachments": {},
   "cell_type": "markdown",
   "id": "e5f14ca3-66d1-4520-be51-7eba9c42f2ca",
   "metadata": {},
   "source": [
    "## Visualization from an Idefix point of view\n",
    "\n",
    "### 1 - Loading a dataset"
   ]
  },
  {
   "attachments": {},
   "cell_type": "markdown",
   "id": "369b8dcd-f89e-4812-b6cf-7531eed4c4ba",
   "metadata": {},
   "source": [
    "Get the path of the directory where you ran the planet test the first day (`$IDEFIX_DIR/test/Planet/PlanetMigration2D`), and import the following libraries (in particular `GasDataSet` from `nonos.api`)"
   ]
  },
  {
   "cell_type": "code",
   "execution_count": null,
   "id": "c596b22b-e72d-4ee9-bbe0-ca38a4d5e942",
   "metadata": {},
   "outputs": [],
   "source": [
    "import matplotlib.pyplot as plt\n",
    "import numpy as np\n",
    "from nonos.api import GasDataSet\n",
    "from nonos.styling import set_mpl_style\n",
    "\n",
    "set_mpl_style(1)  # not mandatory, just a custom style"
   ]
  },
  {
   "cell_type": "code",
   "execution_count": null,
   "id": "1689bf7e-f88c-4f80-b259-43ffba4344c9",
   "metadata": {},
   "outputs": [],
   "source": [
    "directory = (\n",
    "    \"/home/wafflarg/idefix/test/Planet/PlanetMigration2D\"  # CHANGE TO YOUR PATH!\n",
    ")\n",
    "# load the VTK file data.0009.vtk in the dataset ds\n",
    "ds = GasDataSet(9, directory=directory)"
   ]
  },
  {
   "attachments": {},
   "cell_type": "markdown",
   "id": "aed1f75c-ec5d-41f3-8636-e9663617a672",
   "metadata": {},
   "source": [
    "`ds` is a field container, and you can access the fields in the form of a dictionary. You can check what fields are included in `ds` by running:"
   ]
  },
  {
   "cell_type": "code",
   "execution_count": null,
   "id": "705e9fcd-bb38-407b-b861-10ab174d4969",
   "metadata": {},
   "outputs": [],
   "source": [
    "list(ds.keys())"
   ]
  },
  {
   "cell_type": "code",
   "execution_count": null,
   "id": "1c5abe60-ea8b-4005-b1eb-436ec21c1297",
   "metadata": {},
   "outputs": [],
   "source": [
    "ds, ds[\"RHO\"]"
   ]
  },
  {
   "attachments": {},
   "cell_type": "markdown",
   "id": "af0a6564-b160-4803-bc72-52f332e23420",
   "metadata": {},
   "source": [
    "### 2 - Access the data and perform operations"
   ]
  },
  {
   "attachments": {},
   "cell_type": "markdown",
   "id": "1ed6a3e2-0628-447c-a102-2e1582aca504",
   "metadata": {},
   "source": [
    "For this dataset, the simulation is in polar coordinates ($R$, $\\phi$, $z$):"
   ]
  },
  {
   "cell_type": "code",
   "execution_count": null,
   "id": "99a4a50d-0556-4dc1-8041-a69775a641e2",
   "metadata": {},
   "outputs": [],
   "source": [
    "print(f\"{ds.native_geometry}: {ds.coords.cube}\")"
   ]
  },
  {
   "attachments": {},
   "cell_type": "markdown",
   "id": "98ae40fa-0bd1-489d-acb9-6c69df264ec4",
   "metadata": {},
   "source": [
    "You can therefore have access to a 1D array of the coordinates in the simulation with `ds.coords.R`, `ds.coords.phi` and `ds.coords.z` for the cell edges and `ds.coords.Rmed`, `ds.coords.phimed`, `ds.coords.zmed` for the cell centers."
   ]
  },
  {
   "cell_type": "code",
   "execution_count": null,
   "id": "2f45a146-756f-478d-9d1a-e16ddff705ab",
   "metadata": {},
   "outputs": [],
   "source": [
    "ds.coords.R"
   ]
  },
  {
   "attachments": {},
   "cell_type": "markdown",
   "id": "f4949d57-1310-4511-8cf8-d9d7ff468944",
   "metadata": {},
   "source": [
    "Concerning the data for the different fields including in the vtk, e.g. the density field `ds[\"RHO\"]`, you can access it using `ds[\"RHO\"].data`, which is basically a numpy array. You can therefore have access to useful information such as its shape:"
   ]
  },
  {
   "cell_type": "code",
   "execution_count": null,
   "id": "7af40028-7312-4c1a-9f3a-62b27daa2cc7",
   "metadata": {},
   "outputs": [],
   "source": [
    "ds[\"RHO\"].data.shape"
   ]
  },
  {
   "attachments": {},
   "cell_type": "markdown",
   "id": "8c7e52bf-7b22-4e96-af67-ca89d0d9bc24",
   "metadata": {},
   "source": [
    "Several operations can be made on the fields depending on the geometry, for example here you can perform an azimuthal average of the density."
   ]
  },
  {
   "cell_type": "code",
   "execution_count": null,
   "id": "125f9799-7f35-4d74-8714-75bfd04471df",
   "metadata": {},
   "outputs": [],
   "source": [
    "# Azimuhtally averaged density field\n",
    "ds[\"RHO\"].azimuthal_average()"
   ]
  },
  {
   "attachments": {},
   "cell_type": "markdown",
   "id": "9df1f01e-a2b1-4926-af13-c7a1bcba8d92",
   "metadata": {},
   "source": [
    "As you can see, it creates a new field with the same attributes as the original density field, but with a reduced dimension."
   ]
  },
  {
   "cell_type": "code",
   "execution_count": null,
   "id": "5576664b-9a54-4b6a-a2f6-ece0b6a40a66",
   "metadata": {},
   "outputs": [],
   "source": [
    "ds[\"RHO\"].azimuthal_average().data.shape"
   ]
  },
  {
   "attachments": {},
   "cell_type": "markdown",
   "id": "76d9c271-e33a-4359-9424-141a9cc15313",
   "metadata": {},
   "source": [
    "The general operations that are available depending on the native geometry of the data are listed in the documentation on [this link](https://nonos.readthedocs.io/en/latest/api/#1-general-operations) (example: `radial_at_r(distance)` for a slice at a given radius, or `latitudinal_projection(theta)` for an integral between $-\\theta$ and $\\theta$)"
   ]
  },
  {
   "attachments": {},
   "cell_type": "markdown",
   "id": "5b2d9df6-10d6-41c7-bead-12e534d25394",
   "metadata": {},
   "source": [
    "### 3 - Compute a new field"
   ]
  },
  {
   "attachments": {},
   "cell_type": "markdown",
   "id": "1ed809bf-1c8f-41c8-a9f8-704c74603c02",
   "metadata": {},
   "source": [
    "In order to compute a new field from preexisting ones, you can use the `compute` function imported from `nonos.api`, which takes 3 arguments:\n",
    "- the name of the new field\n",
    "- the corresponding array\n",
    "- a known field with similar structure as the new field \n",
    "\n",
    "For example, we can consider the azimuthal component of the gas velocity ($v_\\phi$), with the flow corrected by the `\"rotation\"` of the grid in IDEFIX ($\\Omega_{\\rm grid}$, indicated in the idefix.ini, section `\"Hydro\"`) and considered in corotation with the planet number `0` (located in $R_p$, $\\phi_p$), and therefore create a corrected field $v_\\phi^C$\n",
    "\n",
    "$v_\\phi^C = v_\\phi + R(\\Omega_{\\rm grid}-R_p^{-3/2})$"
   ]
  },
  {
   "cell_type": "code",
   "execution_count": null,
   "id": "5534342e-6f34-4c3d-989d-14207d44dcaf",
   "metadata": {},
   "outputs": [],
   "source": [
    "import os\n",
    "\n",
    "import inifix\n",
    "\n",
    "# load the parameters from idefix.ini\n",
    "inifile = inifix.load(os.path.join(directory, \"idefix.ini\"))\n",
    "# rotation of the grid in the idefix simulation (Omega_grid)\n",
    "omegagrid = inifile[\"Hydro\"][\"rotation\"]\n",
    "# radial location of the planet\n",
    "Rp = ds[\"RHO\"].find_rp(0)"
   ]
  },
  {
   "attachments": {},
   "cell_type": "markdown",
   "id": "595ec6dd-cf6e-4280-a65d-fccf9c0e2661",
   "metadata": {},
   "source": [
    "We used here [inifix](https://pypi.org/project/inifix/), which is a small Python library developed by Clément Robert to read and write 'ini' configuration files in the style of PLUTO and IDEFIX."
   ]
  },
  {
   "cell_type": "code",
   "execution_count": null,
   "id": "5a6b3a03-14ce-4884-b855-7c61a191004d",
   "metadata": {},
   "outputs": [],
   "source": [
    "from nonos.api import compute\n",
    "\n",
    "# 3D array of the radial coordinate\n",
    "Rmed3d = ds.coords.Rmed[:, None, None]\n",
    "\n",
    "vphifield = compute(\n",
    "    field=\"VPHI\",\n",
    "    data=ds[\"VX2\"].data + Rmed3d * (omegagrid - pow(Rp, -1.5)),\n",
    "    ref=ds[\"VX2\"],  # same structure as v_phi field\n",
    ")"
   ]
  },
  {
   "attachments": {},
   "cell_type": "markdown",
   "id": "6cc978e3-3a9b-424f-9c1a-7803dbb7de31",
   "metadata": {},
   "source": [
    "### 4. Visualize the data"
   ]
  },
  {
   "attachments": {},
   "cell_type": "markdown",
   "id": "5be3afea-772e-4a1d-9ac4-0715f6f6bd42",
   "metadata": {},
   "source": [
    "Before plotting the data, we need to convert the field into an object that can be plotted. To do that, nonos will map the field from the native geometry of the outputs to a target geometry. For example, if the native geometry of the dataset is `polar` ($R$, $\\phi$, $z$), you can map it (and then visualize it) in a polar plane ($R$, $\\phi$), but also in a cartesian plane ($x$, $y$)."
   ]
  },
  {
   "cell_type": "code",
   "execution_count": null,
   "id": "4750801a-9751-4d4e-9f96-a0625103b85c",
   "metadata": {},
   "outputs": [],
   "source": [
    "ds[\"RHO\"].map(\"x\", \"y\")"
   ]
  },
  {
   "attachments": {},
   "cell_type": "markdown",
   "id": "b1efabb3-5784-4d9b-aabc-77e8b5411682",
   "metadata": {},
   "source": [
    "Note that here there is just one cell in the vertical direction, so you don't need to perform a vertical slice beforehand. But in a general 3D case, you need first to reduce the dimension with one or two operations, and then map the field in the target plane."
   ]
  },
  {
   "cell_type": "code",
   "execution_count": null,
   "id": "f09b7e78-4f87-4763-8448-0228625fa09b",
   "metadata": {},
   "outputs": [],
   "source": [
    "# Create figure and subplots with matplotlib.pyplot\n",
    "fig, ax = plt.subplots()\n",
    "# Density field mapped in the cartesian plane (x, y), and then plotted in log scale\n",
    "ds[\"RHO\"].map(\"x\", \"y\").plot(fig, ax, log=True, cmap=\"inferno\", title=r\"$\\rho$\")\n",
    "# Same scaling for x-axis and y-axis\n",
    "ax.set(aspect=\"equal\")\n",
    "plt.show()"
   ]
  },
  {
   "attachments": {},
   "cell_type": "markdown",
   "id": "04f4a1f6-5ec6-4b13-ad6b-e22e277a6c3d",
   "metadata": {},
   "source": [
    "We have here a cartesian view of the density field, in log scale, using the colormap `\"inferno\"` and with a colorbar and title. We can do the same in a polar view."
   ]
  },
  {
   "cell_type": "code",
   "execution_count": null,
   "id": "7b204e6a-c69c-4fb7-99ba-82a00c878248",
   "metadata": {},
   "outputs": [],
   "source": [
    "fig, ax = plt.subplots()\n",
    "# Density field mapped in the polar plane (phi, R), and then plotted in log scale\n",
    "ds[\"RHO\"].map(\"phi\", \"R\").plot(\n",
    "    fig, ax, log=True, vmin=-3, vmax=-2.5, cmap=\"inferno\", title=r\"$\\rho$\"\n",
    ")\n",
    "plt.show()"
   ]
  },
  {
   "cell_type": "code",
   "execution_count": null,
   "id": "3521ddfc-7cc1-4184-8481-5f8dd3bdcb7d",
   "metadata": {},
   "outputs": [],
   "source": [
    "# Same here, but reversing the axes (phi, R) -> (R, phi)\n",
    "# and superimposing other plots (vertical lines)\n",
    "fig, ax = plt.subplots()\n",
    "ds[\"RHO\"].map(\"R\", \"phi\").plot(fig, ax, log=True, cmap=\"inferno\", title=r\"$\\rho$\")\n",
    "for rad, lsi in zip(np.linspace(1.3, 1.6, 4), [\"-\", \"--\", \"-.\", \":\"]):\n",
    "    ax.axvline(x=rad, c=\"k\", ls=lsi, label=f\"R = {rad:.1f}\")\n",
    "ax.legend(frameon=False, loc=2)\n",
    "plt.show()"
   ]
  },
  {
   "attachments": {},
   "cell_type": "markdown",
   "id": "7a23f26b-fec5-477d-853b-4b9ab44d7f5a",
   "metadata": {},
   "source": [
    "Here we added some vertical lines at different radial locations, and we can perform various slices at these locations in order to visualize the density field along these lines."
   ]
  },
  {
   "cell_type": "code",
   "execution_count": null,
   "id": "0c927468-6e33-4d6b-be1e-f2654e8125e2",
   "metadata": {},
   "outputs": [],
   "source": [
    "fig, ax = plt.subplots()\n",
    "for rad, lsi in zip(np.linspace(1.3, 1.6, 4), [\"-\", \"--\", \"-.\", \":\"]):\n",
    "    ds[\"RHO\"].radial_at_r(rad).map(\"phi\").plot(\n",
    "        fig, ax, log=True, title=r\"$\\rho$\", c=\"k\", ls=lsi, label=f\"R = {rad:.1f}\"\n",
    "    )\n",
    "ax.set(xlim=(0.2, 1), ylim=(-3.75, -2.25), xlabel=r\"$\\phi$\")\n",
    "plt.legend(frameon=False)\n",
    "plt.show()"
   ]
  },
  {
   "attachments": {},
   "cell_type": "markdown",
   "id": "42b0ff7b-16db-45b1-95d2-ab9666aa08e3",
   "metadata": {},
   "source": [
    "### 5. Bonus: Line Integral Convolution (LIC)"
   ]
  },
  {
   "attachments": {},
   "cell_type": "markdown",
   "id": "d1800c2f-5a36-49d5-9f26-9fabe51ad9d6",
   "metadata": {},
   "source": [
    "Here, we introduce the class `NonosLick` (not directly in the main library), and we can now use various functions and arguments that we introduced earlier, like `compute` or the coordinates at the cell center `ds.coords.Rmed`, `ds.coords.phimed`, and perform a Line Integral Convolution (method to visualize a vector field). In the next cell, we first convert from polar to cartesian the coordinates $(R, \\phi) \\rightarrow (x, y)$:\n",
    "\n",
    "$x = R \\cos(\\phi)$ \\\n",
    "$y = R \\sin(\\phi)$\n",
    "\n",
    "then the data $(v_R, v_\\phi^C) \\rightarrow (v_x, v_y)$:\n",
    "\n",
    "$v_x = v_R \\cos(\\phi) - v_\\phi^C \\sin(\\phi)$ \\\n",
    "$v_y = v_R \\sin(\\phi) + v_\\phi^C \\cos(\\phi)$\n",
    "\n",
    "then we perform a LIC in a specific area around the planet, and finally plot it with some streamlines."
   ]
  },
  {
   "cell_type": "code",
   "execution_count": null,
   "id": "cb6755ad-af70-4b0a-8395-36c6b139bb6c",
   "metadata": {},
   "outputs": [],
   "source": [
    "from nonos.api import NonosLick\n",
    "\n",
    "# Radial and azimuthal coordinates\n",
    "Rmed = ds.coords.Rmed\n",
    "phimed = ds.coords.phimed\n",
    "# 3D array of the azimuthal coordinate\n",
    "pmed3d = phimed[None, :, None]\n",
    "\n",
    "# Return a list of coordinate matrices from coordinate vectors.\n",
    "RRmed, ppmed = np.meshgrid(Rmed, phimed, indexing=\"ij\")\n",
    "# Convert from polar to cartesian\n",
    "xxmed = RRmed * np.cos(ppmed)\n",
    "yymed = RRmed * np.sin(ppmed)\n",
    "\n",
    "# Compute v_x from (v_R, v_phi^C)\n",
    "vxfield = compute(\n",
    "    field=\"VX\",\n",
    "    data=ds[\"VX1\"].data * np.cos(pmed3d) - vphifield.data * np.sin(pmed3d),\n",
    "    ref=ds[\"VX1\"],\n",
    ")\n",
    "\n",
    "# Compute v_y from (v_R, v_phi^C)\n",
    "vyfield = compute(\n",
    "    field=\"VY\",\n",
    "    data=ds[\"VX1\"].data * np.sin(pmed3d) + vphifield.data * np.cos(pmed3d),\n",
    "    ref=ds[\"VX1\"],\n",
    ")\n",
    "\n",
    "# Define the area where we compute the LIC, and eventually the zoom of the final plot\n",
    "xmin, xmax, ymin, ymax = (0.7, 1.7, 0.4, 1.3)\n",
    "\n",
    "# LIC in cartesian, with the density field as background\n",
    "lick = NonosLick(\n",
    "    xxmed,\n",
    "    yymed,\n",
    "    vxfield,\n",
    "    vyfield,\n",
    "    ds[\"RHO\"],\n",
    "    xmin=xmin,\n",
    "    xmax=xmax,\n",
    "    ymin=ymin,\n",
    "    ymax=ymax,\n",
    ")\n",
    "\n",
    "fig, ax = plt.subplots(figsize=(6, 8))\n",
    "# Plot the density + LIC for the velocity vector\n",
    "# with some streamlines. We are in corotation with the planet\n",
    "lick.plot(fig, ax, log=True, title=r\"$\\rho$\", density_streamlines=1, cmap=\"inferno\")\n",
    "ax.set(aspect=\"equal\", xlim=(xmin, xmax), ylim=(ymin, ymax))\n",
    "plt.show()"
   ]
  },
  {
   "cell_type": "code",
   "execution_count": null,
   "id": "8b2b6f23-62b8-410b-b6b5-1efa65152f8c",
   "metadata": {},
   "outputs": [],
   "source": []
  }
 ],
 "metadata": {
  "kernelspec": {
   "display_name": "Python 3",
   "language": "python",
   "name": "python3"
  },
  "language_info": {
   "codemirror_mode": {
    "name": "ipython",
    "version": 3
   },
   "file_extension": ".py",
   "mimetype": "text/x-python",
   "name": "python",
   "nbconvert_exporter": "python",
   "pygments_lexer": "ipython3",
   "version": "3.8.5"
  }
 },
 "nbformat": 4,
 "nbformat_minor": 5
}
