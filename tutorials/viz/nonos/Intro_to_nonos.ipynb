{
 "cells": [
  {
   "attachments": {},
   "cell_type": "markdown",
   "id": "0",
   "metadata": {},
   "source": [
    "## Introduction\n",
    "\n",
    "`nonos` is a 2D visualization Python library, developed initially for planet-disk numerical simulations, as well as a command line application. It works with VTK-formatted data from IDEFIX and PLUTO, and dat-formatted data from FARGO-ADSG and FARGO3D. Most of the implementation has been made for polar / spherical outputs, even though some basic operations are possible in cartesian.\n",
    "\n",
    "In this tutorial, we will learn how to: \n",
    "- load an IDEFIX dataset with `nonos.api.GasDataSet`\n",
    "- perform some operations on a field (e.g., slices, projection)\n",
    "- create a new field with `nonos.api.compute`\n",
    "- visualize the data"
   ]
  },
  {
   "attachments": {},
   "cell_type": "markdown",
   "id": "1",
   "metadata": {
    "tags": []
   },
   "source": [
    "## Resources\n",
    "\n",
    "See the [documentation](https://nonos.readthedocs.io/en/latest/) for an introduction of nonos."
   ]
  },
  {
   "attachments": {},
   "cell_type": "markdown",
   "id": "2",
   "metadata": {},
   "source": [
    "## Visualization from an Idefix point of view\n",
    "\n",
    "### 1 - Loading a dataset"
   ]
  },
  {
   "attachments": {},
   "cell_type": "markdown",
   "id": "3",
   "metadata": {},
   "source": [
    "Get the path of the directory where you ran the planet test the first day (`.../idefix-days/tutorials/getting_started/PlanetMigration2D`), and import the following libraries (in particular `GasDataSet` from `nonos.api`)"
   ]
  },
  {
   "cell_type": "code",
   "execution_count": null,
   "id": "4",
   "metadata": {},
   "outputs": [],
   "source": [
    "import matplotlib.pyplot as plt\n",
    "import numpy as np\n",
    "from nonos.api import GasDataSet\n",
    "from nonos.styling import set_mpl_style\n",
    "\n",
    "set_mpl_style(1)  # not mandatory, just a custom style"
   ]
  },
  {
   "cell_type": "code",
   "execution_count": null,
   "id": "5",
   "metadata": {},
   "outputs": [],
   "source": [
    "directory = \"/home/wafflarg/Documents/idefix-days/tutorials/getting_started/PlanetMigration2D\"  # CHANGE TO YOUR PATH!\n",
    "# load the VTK file data.0009.vtk in the dataset ds\n",
    "ds = GasDataSet(9, directory=directory)"
   ]
  },
  {
   "attachments": {},
   "cell_type": "markdown",
   "id": "6",
   "metadata": {},
   "source": [
    "`ds` is a field container, and you can access the fields in the form of a dictionary. You can check what fields are included in `ds` by running:"
   ]
  },
  {
   "cell_type": "code",
   "execution_count": null,
   "id": "7",
   "metadata": {},
   "outputs": [],
   "source": [
    "list(ds.keys())"
   ]
  },
  {
   "cell_type": "code",
   "execution_count": null,
   "id": "8",
   "metadata": {},
   "outputs": [],
   "source": [
    "ds, ds[\"RHO\"]"
   ]
  },
  {
   "attachments": {},
   "cell_type": "markdown",
   "id": "9",
   "metadata": {},
   "source": [
    "### 2 - Access the data and perform operations"
   ]
  },
  {
   "attachments": {},
   "cell_type": "markdown",
   "id": "10",
   "metadata": {},
   "source": [
    "For this dataset, the simulation is in polar coordinates ($R$, $\\phi$, $z$):"
   ]
  },
  {
   "cell_type": "code",
   "execution_count": null,
   "id": "11",
   "metadata": {},
   "outputs": [],
   "source": [
    "print(f\"{ds.native_geometry}: {ds.coords.cube}\")"
   ]
  },
  {
   "attachments": {},
   "cell_type": "markdown",
   "id": "12",
   "metadata": {},
   "source": [
    "You can therefore have access to a 1D array of the coordinates in the simulation with `ds.coords.R`, `ds.coords.phi` and `ds.coords.z` for the cell edges and `ds.coords.Rmed`, `ds.coords.phimed`, `ds.coords.zmed` for the cell centers."
   ]
  },
  {
   "cell_type": "code",
   "execution_count": null,
   "id": "13",
   "metadata": {},
   "outputs": [],
   "source": [
    "ds.coords.R"
   ]
  },
  {
   "attachments": {},
   "cell_type": "markdown",
   "id": "14",
   "metadata": {},
   "source": [
    "Concerning the data for the different fields including in the vtk, e.g. the density field `ds[\"RHO\"]`, you can access it using `ds[\"RHO\"].data`, which is basically a numpy array. You can therefore have access to useful information such as its shape:"
   ]
  },
  {
   "cell_type": "code",
   "execution_count": null,
   "id": "15",
   "metadata": {},
   "outputs": [],
   "source": [
    "ds[\"RHO\"].data.shape"
   ]
  },
  {
   "attachments": {},
   "cell_type": "markdown",
   "id": "16",
   "metadata": {},
   "source": [
    "Several operations can be made on the fields depending on the geometry, for example here you can perform an azimuthal average of the density."
   ]
  },
  {
   "cell_type": "code",
   "execution_count": null,
   "id": "17",
   "metadata": {},
   "outputs": [],
   "source": [
    "# Azimuhtally averaged density field\n",
    "ds[\"RHO\"].azimuthal_average()"
   ]
  },
  {
   "attachments": {},
   "cell_type": "markdown",
   "id": "18",
   "metadata": {},
   "source": [
    "As you can see, it creates a new field with the same attributes as the original density field, but with a reduced dimension."
   ]
  },
  {
   "cell_type": "code",
   "execution_count": null,
   "id": "19",
   "metadata": {},
   "outputs": [],
   "source": [
    "ds[\"RHO\"].azimuthal_average().data.shape"
   ]
  },
  {
   "attachments": {},
   "cell_type": "markdown",
   "id": "20",
   "metadata": {},
   "source": [
    "The general operations that are available depending on the native geometry of the data are listed in the documentation on [this link](https://nonos.readthedocs.io/en/latest/api/#1-general-operations) (example: `radial_at_r(distance)` for a slice at a given radius, or `latitudinal_projection(theta)` for an integral between $-\\theta$ and $\\theta$)"
   ]
  },
  {
   "attachments": {},
   "cell_type": "markdown",
   "id": "21",
   "metadata": {},
   "source": [
    "### 3 - Compute a new field"
   ]
  },
  {
   "attachments": {},
   "cell_type": "markdown",
   "id": "22",
   "metadata": {},
   "source": [
    "In order to compute a new field from preexisting ones, you can use the `compute` function imported from `nonos.api`, which takes 3 arguments:\n",
    "- the name of the new field\n",
    "- the corresponding array\n",
    "- a known field with similar structure as the new field \n",
    "\n",
    "For example, we can consider the azimuthal component of the gas velocity ($v_\\phi$), with the flow corrected by the `\"rotation\"` of the grid in IDEFIX ($\\Omega_{\\rm grid}$, indicated in the idefix.ini, section `\"Hydro\"`) and considered in corotation with the planet number `0` (located in $R_p$, $\\phi_p$), and therefore create a corrected field $v_\\phi^C$\n",
    "\n",
    "$v_\\phi^C = v_\\phi + R(\\Omega_{\\rm grid}-R_p^{-3/2})$"
   ]
  },
  {
   "cell_type": "code",
   "execution_count": null,
   "id": "23",
   "metadata": {},
   "outputs": [],
   "source": [
    "import os\n",
    "\n",
    "import inifix\n",
    "\n",
    "# load the parameters from idefix.ini\n",
    "inifile = inifix.load(os.path.join(directory, \"idefix.ini\"))\n",
    "# rotation of the grid in the idefix simulation (Omega_grid)\n",
    "omegagrid = inifile[\"Hydro\"][\"rotation\"]\n",
    "# radial location of the planet\n",
    "Rp = ds[\"RHO\"].find_rp(0)"
   ]
  },
  {
   "attachments": {},
   "cell_type": "markdown",
   "id": "24",
   "metadata": {},
   "source": [
    "We used here [inifix](https://pypi.org/project/inifix/), which is a small Python library developed by Clément Robert to read and write 'ini' configuration files in the style of PLUTO and IDEFIX."
   ]
  },
  {
   "cell_type": "code",
   "execution_count": null,
   "id": "25",
   "metadata": {},
   "outputs": [],
   "source": [
    "from nonos.api import compute\n",
    "\n",
    "# 3D array of the radial coordinate\n",
    "Rmed3d = ds.coords.Rmed[:, None, None]\n",
    "\n",
    "vphifield = compute(\n",
    "    field=\"VPHI\",\n",
    "    data=ds[\"VX2\"].data + Rmed3d * (omegagrid - pow(Rp, -1.5)),\n",
    "    ref=ds[\"VX2\"],  # same structure as v_phi field\n",
    ")"
   ]
  },
  {
   "attachments": {},
   "cell_type": "markdown",
   "id": "26",
   "metadata": {},
   "source": [
    "### 4. Visualize the data"
   ]
  },
  {
   "attachments": {},
   "cell_type": "markdown",
   "id": "27",
   "metadata": {},
   "source": [
    "Before plotting the data, we need to convert the field into an object that can be plotted. To do that, nonos will map the field from the native geometry of the outputs to a target geometry. For example, if the native geometry of the dataset is `polar` ($R$, $\\phi$, $z$), you can map it (and then visualize it) in a polar plane ($R$, $\\phi$), but also in a cartesian plane ($x$, $y$)."
   ]
  },
  {
   "cell_type": "code",
   "execution_count": null,
   "id": "28",
   "metadata": {},
   "outputs": [],
   "source": [
    "ds[\"RHO\"].map(\"x\", \"y\")"
   ]
  },
  {
   "attachments": {},
   "cell_type": "markdown",
   "id": "29",
   "metadata": {},
   "source": [
    "Note that here there is just one cell in the vertical direction, so you don't need to perform a vertical slice beforehand. But in a general 3D case, you need first to reduce the dimension with one or two operations, and then map the field in the target plane."
   ]
  },
  {
   "cell_type": "code",
   "execution_count": null,
   "id": "30",
   "metadata": {},
   "outputs": [],
   "source": [
    "# Create figure and subplots with matplotlib.pyplot\n",
    "fig, ax = plt.subplots()\n",
    "# Density field mapped in the cartesian plane (x, y), and then plotted in log scale\n",
    "ds[\"RHO\"].map(\"x\", \"y\").plot(fig, ax, log=True, cmap=\"inferno\", title=r\"$\\rho$\")\n",
    "# Same scaling for x-axis and y-axis\n",
    "ax.set(aspect=\"equal\")\n",
    "plt.show()"
   ]
  },
  {
   "attachments": {},
   "cell_type": "markdown",
   "id": "31",
   "metadata": {},
   "source": [
    "We have here a cartesian view of the density field, in log scale, using the colormap `\"inferno\"` and with a colorbar and title. We can do the same in a polar view."
   ]
  },
  {
   "cell_type": "code",
   "execution_count": null,
   "id": "32",
   "metadata": {},
   "outputs": [],
   "source": [
    "fig, ax = plt.subplots()\n",
    "# Density field mapped in the polar plane (phi, R), and then plotted in log scale\n",
    "ds[\"RHO\"].map(\"phi\", \"R\").plot(\n",
    "    fig, ax, log=True, vmin=-3, vmax=-2.5, cmap=\"inferno\", title=r\"$\\rho$\"\n",
    ")\n",
    "plt.show()"
   ]
  },
  {
   "cell_type": "code",
   "execution_count": null,
   "id": "33",
   "metadata": {},
   "outputs": [],
   "source": [
    "# Same here, but reversing the axes (phi, R) -> (R, phi)\n",
    "# and superimposing other plots (vertical lines)\n",
    "fig, ax = plt.subplots()\n",
    "ds[\"RHO\"].map(\"R\", \"phi\").plot(fig, ax, log=True, cmap=\"inferno\", title=r\"$\\rho$\")\n",
    "for rad, lsi in zip(np.linspace(1.3, 1.6, 4), [\"-\", \"--\", \"-.\", \":\"]):\n",
    "    ax.axvline(x=rad, c=\"k\", ls=lsi, label=f\"R = {rad:.1f}\")\n",
    "ax.legend(frameon=False, loc=2)\n",
    "plt.show()"
   ]
  },
  {
   "attachments": {},
   "cell_type": "markdown",
   "id": "34",
   "metadata": {},
   "source": [
    "Here we added some vertical lines at different radial locations, and we can perform various slices at these locations in order to visualize the density field along these lines."
   ]
  },
  {
   "cell_type": "code",
   "execution_count": null,
   "id": "35",
   "metadata": {},
   "outputs": [],
   "source": [
    "fig, ax = plt.subplots()\n",
    "for rad, lsi in zip(np.linspace(1.3, 1.6, 4), [\"-\", \"--\", \"-.\", \":\"]):\n",
    "    ds[\"RHO\"].radial_at_r(rad).map(\"phi\").plot(\n",
    "        fig, ax, log=True, title=r\"$\\rho$\", c=\"k\", ls=lsi, label=f\"R = {rad:.1f}\"\n",
    "    )\n",
    "ax.set(xlim=(0.2, 1), ylim=(-3.75, -2.25), xlabel=r\"$\\phi$\")\n",
    "plt.legend(frameon=False)\n",
    "plt.show()"
   ]
  },
  {
   "attachments": {},
   "cell_type": "markdown",
   "id": "36",
   "metadata": {},
   "source": [
    "### 5. Bonus: Line Integral Convolution (LIC)"
   ]
  },
  {
   "attachments": {},
   "cell_type": "markdown",
   "id": "37",
   "metadata": {},
   "source": [
    "Here, we introduce the class `NonosLick` (not directly in the main library), and we can now use various functions and arguments that we introduced earlier, like `compute` or the coordinates at the cell center `ds.coords.Rmed`, `ds.coords.phimed`, and perform a Line Integral Convolution (method to visualize a vector field)."
   ]
  },
  {
   "cell_type": "markdown",
   "id": "38",
   "metadata": {},
   "source": [
    "#### 5.1 Get the coordinates\n",
    "\n",
    "In the next cell, we first convert from polar to cartesian the coordinates $(R, \\phi) \\rightarrow (x, y)$:\n",
    "\n",
    "$x = R \\cos(\\phi)$ \\\n",
    "$y = R \\sin(\\phi)$"
   ]
  },
  {
   "cell_type": "code",
   "execution_count": null,
   "id": "39",
   "metadata": {},
   "outputs": [],
   "source": [
    "from nonos.api import NonosLick\n",
    "\n",
    "# Radial and azimuthal coordinates\n",
    "Rmed = ds.coords.Rmed\n",
    "phimed = ds.coords.phimed\n",
    "# 3D array of the azimuthal coordinate\n",
    "pmed3d = phimed[None, :, None]\n",
    "\n",
    "# Return a list of coordinate matrices from coordinate vectors.\n",
    "RRmed, ppmed = np.meshgrid(Rmed, phimed, indexing=\"ij\")\n",
    "# Convert from polar to cartesian\n",
    "xxmed = RRmed * np.cos(ppmed)\n",
    "yymed = RRmed * np.sin(ppmed)"
   ]
  },
  {
   "cell_type": "markdown",
   "id": "40",
   "metadata": {},
   "source": [
    "#### 5.2 Compute the data\n",
    "\n",
    "Then we convert from polar to cartesian the the data $(v_R, v_\\phi^C) \\rightarrow (v_x, v_y)$:\n",
    "\n",
    "$v_x = v_R \\cos(\\phi) - v_\\phi^C \\sin(\\phi)$ \\\n",
    "$v_y = v_R \\sin(\\phi) + v_\\phi^C \\cos(\\phi)$"
   ]
  },
  {
   "cell_type": "code",
   "execution_count": null,
   "id": "41",
   "metadata": {},
   "outputs": [],
   "source": [
    "# Compute v_x from (v_R, v_phi^C)\n",
    "vxfield = compute(\n",
    "    field=\"VX\",\n",
    "    data=ds[\"VX1\"].data * np.cos(pmed3d) - vphifield.data * np.sin(pmed3d),\n",
    "    ref=ds[\"VX1\"],\n",
    ")\n",
    "\n",
    "# Compute v_y from (v_R, v_phi^C)\n",
    "vyfield = compute(\n",
    "    field=\"VY\",\n",
    "    data=ds[\"VX1\"].data * np.sin(pmed3d) + vphifield.data * np.cos(pmed3d),\n",
    "    ref=ds[\"VX1\"],\n",
    ")"
   ]
  },
  {
   "cell_type": "markdown",
   "id": "42",
   "metadata": {},
   "source": [
    "#### 5.3 Perform the LIC\n",
    "\n",
    "Then, we perform a LIC in a specific area around the planet:"
   ]
  },
  {
   "cell_type": "code",
   "execution_count": null,
   "id": "43",
   "metadata": {},
   "outputs": [],
   "source": [
    "# Define the area where we compute the LIC, and eventually the zoom of the final plot\n",
    "xmin, xmax, ymin, ymax = (0.7, 1.7, 0.4, 1.3)\n",
    "\n",
    "# LIC in cartesian, with the density field as background\n",
    "lick = NonosLick(\n",
    "    xxmed,\n",
    "    yymed,\n",
    "    vxfield,\n",
    "    vyfield,\n",
    "    ds[\"RHO\"],\n",
    "    xmin=xmin,\n",
    "    xmax=xmax,\n",
    "    ymin=ymin,\n",
    "    ymax=ymax,\n",
    ")"
   ]
  },
  {
   "cell_type": "markdown",
   "id": "44",
   "metadata": {},
   "source": [
    "#### 5.4 Plot the LIC\n",
    "\n",
    "Finally, we plot the LIC with some streamlines."
   ]
  },
  {
   "cell_type": "code",
   "execution_count": null,
   "id": "45",
   "metadata": {},
   "outputs": [],
   "source": [
    "fig, ax = plt.subplots(figsize=(6, 8))\n",
    "# Plot the density + LIC for the velocity vector\n",
    "# with some streamlines. We are in corotation with the planet\n",
    "lick.plot(fig, ax, log=True, title=r\"$\\rho$\", density_streamlines=1, cmap=\"inferno\")\n",
    "ax.set(aspect=\"equal\", xlim=(xmin, xmax), ylim=(ymin, ymax))\n",
    "plt.show()"
   ]
  },
  {
   "cell_type": "code",
   "execution_count": null,
   "id": "46",
   "metadata": {},
   "outputs": [],
   "source": []
  }
 ],
 "metadata": {
  "kernelspec": {
   "display_name": "Python 3 (ipykernel)",
   "language": "python",
   "name": "python3"
  },
  "language_info": {
   "codemirror_mode": {
    "name": "ipython",
    "version": 3
   },
   "file_extension": ".py",
   "mimetype": "text/x-python",
   "name": "python",
   "nbconvert_exporter": "python",
   "pygments_lexer": "ipython3",
   "version": "3.10.12"
  }
 },
 "nbformat": 4,
 "nbformat_minor": 5
}
