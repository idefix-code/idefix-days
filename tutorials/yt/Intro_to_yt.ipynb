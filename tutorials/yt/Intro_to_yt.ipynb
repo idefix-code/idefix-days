{
 "cells": [
  {
   "attachments": {},
   "cell_type": "markdown",
   "id": "4c3add42",
   "metadata": {},
   "source": [
    "# An introduction to visualization with yt\n",
    "\n",
    "[`yt`](https://yt-project.org) is a Python toolkit that provides a generic interface for analysis and visualization of spatially-organised data, with built-in compatibility for various data formats (Athena++, RAMSES, AREPO, to name a few).\n",
    "It supports grid-based data (regular, streched, and various flavours of AMR), as well as particle data (point-like and SPH).\n",
    "Its key features are:\n",
    "- a code-agnostic interface (specificities of data formats are rarely relevant)\n",
    "- dimensionally meaningful analysis\n",
    "- lazy data loading (only load in memory what's actually needed, when it's needed)\n",
    "- parallel capacity (with `mpi4py`)\n",
    "\n",
    "\n",
    "In this tutorial, we'll demonstrate how to load data, and produce simple visulations with yt in a couple lines of Python, and show how to go beyond the defaults.\n",
    "We will cover the following basic functionalities.\n",
    "- `yt.load`\n",
    "- `yt.SlicePlot`\n",
    "- `yt.ProjectionPlot`\n",
    "- `yt.Dataset.add_field`\n",
    "\n",
    "Then, we will see how to enable compatibility with Idefix (and Pluto !) data files using the [`yt_idefix`](https://github.com/neutrinoceros/yt_idefix) extension.\n",
    "\n",
    "\n",
    "For completness, `yt` supports many operations that will not be covered here, like\n",
    "- volume rendering\n",
    "- off-axis slices and projections\n",
    "- region selection\n",
    "- exporting reduced datasets to `HDF5`\n"
   ]
  },
  {
   "cell_type": "code",
   "execution_count": null,
   "id": "4db40ef0-23f6-42c8-b1a3-b1e284537a21",
   "metadata": {},
   "outputs": [],
   "source": [
    "import yt"
   ]
  },
  {
   "cell_type": "code",
   "execution_count": null,
   "id": "36af7c24-0d75-49cc-8299-605a8442e79d",
   "metadata": {},
   "outputs": [],
   "source": [
    "ds = yt.load_sample(\"IsolatedGalaxy\")\n",
    "# ds = yt.load(\"IsolatedGalaxy/galaxy0030/galaxy0030.hierarchy\")"
   ]
  },
  {
   "cell_type": "code",
   "execution_count": null,
   "id": "bfb2e66f-1184-4f54-ba58-fa188a6746cc",
   "metadata": {},
   "outputs": [],
   "source": [
    "yt.SlicePlot(ds, \"z\", (\"gas\", \"density\"))"
   ]
  },
  {
   "cell_type": "code",
   "execution_count": null,
   "id": "8929e1ed-619c-4d72-a0c3-f3470a4172b1",
   "metadata": {},
   "outputs": [],
   "source": [
    "# plot the *column* density\n",
    "yt.ProjectionPlot(ds, \"z\", (\"gas\", \"density\"))"
   ]
  },
  {
   "cell_type": "code",
   "execution_count": null,
   "id": "622ca68a-7bf9-46f7-ba25-7a193d6f8c30",
   "metadata": {},
   "outputs": [],
   "source": [
    "p = yt.SlicePlot(ds, \"z\", (\"gas\", \"density\"))\n",
    "p"
   ]
  },
  {
   "cell_type": "code",
   "execution_count": null,
   "id": "f53e8e4a-7564-4419-a118-bfbdbdbb088a",
   "metadata": {},
   "outputs": [],
   "source": [
    "p.zoom(30)"
   ]
  },
  {
   "cell_type": "code",
   "execution_count": null,
   "id": "df56071d-1f8e-4a01-bcd6-0fd86d549504",
   "metadata": {},
   "outputs": [],
   "source": [
    "p.annotate_timestamp(draw_inset_box=True)"
   ]
  },
  {
   "cell_type": "code",
   "execution_count": null,
   "id": "7a6fe8c7-6c47-407c-936a-43acd0440685",
   "metadata": {},
   "outputs": [],
   "source": [
    "p.annotate_streamlines((\"gas\", \"velocity_x\"), (\"gas\", \"velocity_y\"), color=\"white\")"
   ]
  },
  {
   "cell_type": "code",
   "execution_count": null,
   "id": "8fbc58e1-80b4-4baa-822f-e95f8de03179",
   "metadata": {},
   "outputs": [],
   "source": [
    "p.swap_axes()"
   ]
  },
  {
   "cell_type": "code",
   "execution_count": null,
   "id": "63f9f19c-3875-4442-9442-12e5aef599bb",
   "metadata": {},
   "outputs": [],
   "source": [
    "p.flip_horizontal()"
   ]
  },
  {
   "cell_type": "code",
   "execution_count": null,
   "id": "8e191d0f-018e-4452-a7ca-08920af8d09b",
   "metadata": {},
   "outputs": [],
   "source": [
    "import unyt as un\n",
    "import unyt.physical_constants as cst\n",
    "import yt\n",
    "\n",
    "ds = yt.load(\"IsolatedGalaxy/galaxy0030/galaxy0030.hierarchy\")\n",
    "\n",
    "GM = cst.G * (10**6 * cst.Msun)\n",
    "(GM * cst.Mearth / un.cm**2).units.dimensions"
   ]
  },
  {
   "cell_type": "code",
   "execution_count": null,
   "id": "f21c41f5-9433-4919-9f9b-9f85386ef1c9",
   "metadata": {},
   "outputs": [],
   "source": [
    "def gravitational_pull(field, data):\n",
    "    # the pull exerted by a central mass of 10**6 Msun on a test mass (Mearth)\n",
    "    # as a function of the position\n",
    "    xc, yc, zc = data.ds.domain_center\n",
    "    length_unit = data[\"index\", \"x\"].units\n",
    "    d2 = (\n",
    "        (data[\"index\", \"x\"] - xc) ** 2\n",
    "        + (data[\"index\", \"y\"] - yc) ** 2\n",
    "        + (data[\"index\", \"z\"] - zc) ** 2\n",
    "        + 1e-16 * length_unit**2  # smoothing around origin\n",
    "    )\n",
    "    return GM * un.Mearth / d2\n",
    "\n",
    "\n",
    "ds.add_field(\n",
    "    (\"gas\", \"gravitational_pull\"),\n",
    "    function=gravitational_pull,\n",
    "    sampling_type=\"cell\",\n",
    "    units=\"N\",  # enable dimensional analysis check at definition time\n",
    "    # force_override=True, # make this cell re-runable\n",
    ")\n",
    "\n",
    "p = yt.SlicePlot(ds, \"x\", (\"gas\", \"gravitational_pull\"))\n",
    "p"
   ]
  },
  {
   "cell_type": "code",
   "execution_count": null,
   "id": "3347fdae-3c7b-4a5f-b77e-00ac66273889",
   "metadata": {},
   "outputs": [],
   "source": [
    "p.set_unit((\"gas\", \"gravitational_pull\"), \"dyn\")"
   ]
  },
  {
   "cell_type": "code",
   "execution_count": null,
   "id": "5d2d19ee-f066-471d-9d71-5c2b860b4641",
   "metadata": {},
   "outputs": [],
   "source": []
  }
 ],
 "metadata": {
  "kernelspec": {
   "display_name": "Python 3 (ipykernel)",
   "language": "python",
   "name": "python3"
  },
  "language_info": {
   "codemirror_mode": {
    "name": "ipython",
    "version": 3
   },
   "file_extension": ".py",
   "mimetype": "text/x-python",
   "name": "python",
   "nbconvert_exporter": "python",
   "pygments_lexer": "ipython3",
   "version": "3.11.4"
  }
 },
 "nbformat": 4,
 "nbformat_minor": 5
}
