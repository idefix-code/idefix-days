{
 "cells": [
  {
   "attachments": {},
   "cell_type": "markdown",
   "id": "4c3add42",
   "metadata": {},
   "source": [
    "# An introduction to visualization with yt\n",
    "\n",
    "[`yt`](https://yt-project.org) is a Python toolkit that provides a generic interface for analysis and visualization of spatially-organised data, with built-in compatibility for various data formats (Athena++, RAMSES, AREPO, to name a few).\n",
    "It supports grid-based data (regular, streched, and various flavours of AMR), as well as particle data (point-like and SPH).\n",
    "Its key features are:\n",
    "- a code-agnostic interface (specificities of data formats are rarely relevant)\n",
    "- dimensionally meaningful analysis\n",
    "- lazy data loading (only load in memory what's actually needed, when it's needed)\n",
    "- parallel capacity (with `mpi4py`)\n",
    "\n",
    "\n",
    "In this tutorial, we'll demonstrate how to load data, and produce simple visulations with yt in a couple lines of Python, and show how to go beyond the defaults.\n",
    "We will cover the following basic functionalities.\n",
    "- `yt.load`\n",
    "- `yt.SlicePlot`\n",
    "- `yt.ProjectionPlot`\n",
    "- `yt.Dataset.add_field`\n",
    "\n",
    "Then, we will see how to enable compatibility with Idefix (and Pluto !) data files using the [`yt_idefix`](https://github.com/neutrinoceros/yt_idefix) extension.\n",
    "\n",
    "\n",
    "For completness, `yt` supports many operations that will not be covered here, like\n",
    "- plotting multiple fields with a single `SlicePlot` object\n",
    "- data reduction to 1D-profile\n",
    "- \"phase plots\"\n",
    "- volume rendering\n",
    "- off-axis slices and projections\n",
    "- region selection\n",
    "- exporting reduced datasets to `HDF5`\n",
    "\n",
    "*note* that many of these features may have only partial support for non-cartesian geometries.\n",
    "\n",
    "Explore [the documentation](https://yt-project.org/doc/) and [the cookbook](https://yt-project.org/doc/cookbook/index.html) for much more.\n"
   ]
  },
  {
   "cell_type": "code",
   "execution_count": null,
   "id": "4db40ef0-23f6-42c8-b1a3-b1e284537a21",
   "metadata": {},
   "outputs": [],
   "source": [
    "import yt"
   ]
  },
  {
   "cell_type": "code",
   "execution_count": null,
   "id": "36af7c24-0d75-49cc-8299-605a8442e79d",
   "metadata": {},
   "outputs": [],
   "source": [
    "ds = yt.load_sample(\"IsolatedGalaxy\")\n",
    "# ds = yt.load(\"IsolatedGalaxy/galaxy0030/galaxy0030.hierarchy\")"
   ]
  },
  {
   "cell_type": "code",
   "execution_count": null,
   "id": "bfb2e66f-1184-4f54-ba58-fa188a6746cc",
   "metadata": {},
   "outputs": [],
   "source": [
    "yt.SlicePlot(ds, \"z\", (\"gas\", \"density\"))"
   ]
  },
  {
   "cell_type": "code",
   "execution_count": null,
   "id": "8929e1ed-619c-4d72-a0c3-f3470a4172b1",
   "metadata": {},
   "outputs": [],
   "source": [
    "# plot the *column* density\n",
    "yt.ProjectionPlot(ds, \"z\", (\"gas\", \"density\"))"
   ]
  },
  {
   "cell_type": "code",
   "execution_count": null,
   "id": "622ca68a-7bf9-46f7-ba25-7a193d6f8c30",
   "metadata": {},
   "outputs": [],
   "source": [
    "p = yt.SlicePlot(ds, \"z\", (\"gas\", \"density\"))\n",
    "p"
   ]
  },
  {
   "cell_type": "code",
   "execution_count": null,
   "id": "f53e8e4a-7564-4419-a118-bfbdbdbb088a",
   "metadata": {},
   "outputs": [],
   "source": [
    "p.zoom(30)"
   ]
  },
  {
   "cell_type": "code",
   "execution_count": null,
   "id": "df56071d-1f8e-4a01-bcd6-0fd86d549504",
   "metadata": {},
   "outputs": [],
   "source": [
    "p.annotate_timestamp(draw_inset_box=True)"
   ]
  },
  {
   "cell_type": "code",
   "execution_count": null,
   "id": "7a6fe8c7-6c47-407c-936a-43acd0440685",
   "metadata": {},
   "outputs": [],
   "source": [
    "p.annotate_streamlines((\"gas\", \"velocity_x\"), (\"gas\", \"velocity_y\"), color=\"white\")"
   ]
  },
  {
   "cell_type": "code",
   "execution_count": null,
   "id": "8fbc58e1-80b4-4baa-822f-e95f8de03179",
   "metadata": {},
   "outputs": [],
   "source": [
    "p.swap_axes()"
   ]
  },
  {
   "cell_type": "code",
   "execution_count": null,
   "id": "63f9f19c-3875-4442-9442-12e5aef599bb",
   "metadata": {},
   "outputs": [],
   "source": [
    "p.flip_horizontal()"
   ]
  },
  {
   "attachments": {},
   "cell_type": "markdown",
   "id": "c1bbdff1",
   "metadata": {},
   "source": [
    "## Inspecting and defining data fields\n",
    "\n",
    "`yt` has a notion of 'native' VS 'derived' data fields. The former are directly read from disk, while the latter are computed on the fly.\n",
    "Many fields are often available out-of-the-box\n",
    "\n"
   ]
  },
  {
   "cell_type": "code",
   "execution_count": null,
   "id": "c7ae01d6",
   "metadata": {},
   "outputs": [],
   "source": [
    "import yt\n",
    "\n",
    "ds = yt.load(\"IsolatedGalaxy/galaxy0030/galaxy0030.hierarchy\")\n",
    "ds.field_list"
   ]
  },
  {
   "attachments": {},
   "cell_type": "markdown",
   "id": "4997e5c7",
   "metadata": {},
   "source": [
    "But it's always possible to define more fields at runtime !\n",
    "Let's see how we would define a simple field representing the gravitational pull of central potential created by $10^6$ solar masses on an Earth-mass test particle as a function of position.\n",
    "\n",
    "In `yt`, data fields are essentially [*numpy arrays with units*](https://unyt.readthedocs.io/en/stable/). Working with physically meaningful quantities allows `yt` to verify dimensional consistency at runtime. This crucial feature is powered by the `unyt` library. Let's use it here to define the $GM$ constant."
   ]
  },
  {
   "cell_type": "code",
   "execution_count": null,
   "id": "8e191d0f-018e-4452-a7ca-08920af8d09b",
   "metadata": {},
   "outputs": [],
   "source": [
    "import unyt as un\n",
    "import unyt.physical_constants as cst\n",
    "\n",
    "GM = cst.G * (10**6 * cst.Msun)\n",
    "\n",
    "# visual dimension analysis\n",
    "(GM * cst.Mearth / un.AU**2).units.dimensions"
   ]
  },
  {
   "cell_type": "code",
   "execution_count": null,
   "id": "f21c41f5-9433-4919-9f9b-9f85386ef1c9",
   "metadata": {},
   "outputs": [],
   "source": [
    "# this cell has a bug, can you spot it ?\n",
    "\n",
    "\n",
    "def gravitational_pull(field, data):\n",
    "    # the pull exerted by a central mass of 10**6 Msun on a test mass (Mearth)\n",
    "    # as a function of the position\n",
    "    xc, yc, zc = data.ds.domain_center\n",
    "    length_unit = data[\"index\", \"x\"].units\n",
    "    d2 = (\n",
    "        (data[\"index\", \"x\"] - xc) ** 2\n",
    "        + (data[\"index\", \"y\"] - yc) ** 2\n",
    "        + (data[\"index\", \"z\"] - zc) ** 2\n",
    "        + 1e-16 * length_unit**2  # smoothing around origin\n",
    "    )\n",
    "    return GM * un.Mearth / d2**2\n",
    "\n",
    "\n",
    "ds.add_field(\n",
    "    (\"gas\", \"gravitational_pull\"),\n",
    "    function=gravitational_pull,\n",
    "    sampling_type=\"cell\",\n",
    "    units=\"N\",  # enable dimensional analysis check at definition time\n",
    "    force_override=True,  # make this cell re-runable\n",
    ")\n",
    "\n",
    "yt.SlicePlot(ds, \"x\", (\"gas\", \"gravitational_pull\"))"
   ]
  },
  {
   "attachments": {},
   "cell_type": "markdown",
   "id": "f3bb9a32",
   "metadata": {},
   "source": [
    "## 2 - Working with idefix data\n",
    "We'll need to install the `yt_idefix` extension to get compatibility with idefix (and Pluto) data."
   ]
  },
  {
   "cell_type": "code",
   "execution_count": null,
   "id": "68c72e63",
   "metadata": {},
   "outputs": [],
   "source": [
    "%pip install yt_idefix"
   ]
  },
  {
   "cell_type": "code",
   "execution_count": null,
   "id": "d2701911",
   "metadata": {},
   "outputs": [],
   "source": [
    "ds = yt.load(\"../../../idefix/test/HD/FargoPlanet/data.0001.vtk\")\n",
    "p = yt.ProjectionPlot(ds, \"z\", (\"gas\", \"density\"))\n",
    "p.annotate_title(\"Default behaviour\")"
   ]
  },
  {
   "attachments": {},
   "cell_type": "markdown",
   "id": "fded7cc2",
   "metadata": {},
   "source": [
    "Default units are weird... this is because Idefix doesn't have a concept of runtime units. We can provide them at post-processing time as"
   ]
  },
  {
   "cell_type": "code",
   "execution_count": null,
   "id": "f6c184cd",
   "metadata": {},
   "outputs": [],
   "source": [
    "ds = yt.load(\n",
    "    \"../../../idefix/test/HD/FargoPlanet/data.0001.vtk\",\n",
    "    units_override={\n",
    "        \"length_unit\": (5.5, \"AU\"),\n",
    "        \"mass_unit\": (1, \"Msun\"),\n",
    "    },\n",
    ")\n",
    "p = yt.ProjectionPlot(ds, \"z\", (\"gas\", \"density\"))\n",
    "p.annotate_title(\"with units override\")"
   ]
  },
  {
   "attachments": {},
   "cell_type": "markdown",
   "id": "22e8302b",
   "metadata": {},
   "source": [
    "... or we can \"hide\" units (they are still used internally)"
   ]
  },
  {
   "cell_type": "code",
   "execution_count": null,
   "id": "cf60d97b",
   "metadata": {},
   "outputs": [],
   "source": [
    "ds = yt.load(\n",
    "    \"../../../idefix/test/HD/FargoPlanet/data.0001.vtk\",\n",
    "    unit_system=\"code\",\n",
    ")\n",
    "p = yt.ProjectionPlot(ds, \"z\", (\"gas\", \"density\"))\n",
    "p.annotate_title(\"with 'code' unit system\")"
   ]
  },
  {
   "cell_type": "code",
   "execution_count": null,
   "id": "b93af831",
   "metadata": {},
   "outputs": [],
   "source": []
  }
 ],
 "metadata": {
  "kernelspec": {
   "display_name": "Python 3 (ipykernel)",
   "language": "python",
   "name": "python3"
  },
  "language_info": {
   "codemirror_mode": {
    "name": "ipython",
    "version": 3
   },
   "file_extension": ".py",
   "mimetype": "text/x-python",
   "name": "python",
   "nbconvert_exporter": "python",
   "pygments_lexer": "ipython3",
   "version": "3.11.4"
  }
 },
 "nbformat": 4,
 "nbformat_minor": 5
}
